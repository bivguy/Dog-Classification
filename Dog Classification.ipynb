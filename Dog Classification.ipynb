{
 "cells": [
  {
   "cell_type": "code",
   "execution_count": 110,
   "id": "455107f2",
   "metadata": {},
   "outputs": [],
   "source": [
    "import numpy as np\n",
    "import tensorflow as tf\n",
    "from tensorflow import keras\n",
    "from tensorflow.keras.layers import Dense, Activation\n",
    "from tensorflow.keras.optimizers import Adam\n",
    "from tensorflow.keras.metrics import categorical_crossentropy\n",
    "from tensorflow.keras.preprocessing.image import ImageDataGenerator\n",
    "from tensorflow.keras.preprocessing import image\n",
    "from tensorflow.keras.models import Model\n",
    "from tensorflow.keras.applications import imagenet_utils\n",
    "from sklearn.metrics import confusion_matrix\n",
    "import itertools\n",
    "import os\n",
    "import shutil\n",
    "import random\n",
    "import matplotlib.pyplot as plt\n",
    "import sys as sys\n",
    "%matplotlib inline"
   ]
  },
  {
   "cell_type": "markdown",
   "id": "972adf72",
   "metadata": {},
   "source": [
    "$\\textbf{Making the Model}$"
   ]
  },
  {
   "cell_type": "code",
   "execution_count": 5,
   "id": "104466c9",
   "metadata": {},
   "outputs": [],
   "source": [
    "mobile = tf.keras.applications.mobilenet.MobileNet()"
   ]
  },
  {
   "cell_type": "code",
   "execution_count": 6,
   "id": "9b081276",
   "metadata": {},
   "outputs": [],
   "source": [
    "x = mobile.layers[-5].output\n",
    "x = tf.keras.layers.Reshape(target_shape=(1024,))(x)\n",
    "output = Dense(units = 120, activation='softmax')(x)"
   ]
  },
  {
   "cell_type": "code",
   "execution_count": 7,
   "id": "b3a0b337",
   "metadata": {},
   "outputs": [],
   "source": [
    "model = Model(inputs = mobile.input, outputs = output)"
   ]
  },
  {
   "cell_type": "code",
   "execution_count": 8,
   "id": "d9bf5e7a",
   "metadata": {},
   "outputs": [],
   "source": [
    "for layer in model.layers[:-22]:\n",
    "    layer.trainable = False "
   ]
  },
  {
   "cell_type": "code",
   "execution_count": 10,
   "id": "4cddfaa8",
   "metadata": {},
   "outputs": [
    {
     "name": "stdout",
     "output_type": "stream",
     "text": [
      "Model: \"model\"\n",
      "_________________________________________________________________\n",
      " Layer (type)                Output Shape              Param #   \n",
      "=================================================================\n",
      " input_2 (InputLayer)        [(None, 224, 224, 3)]     0         \n",
      "                                                                 \n",
      " conv1 (Conv2D)              (None, 112, 112, 32)      864       \n",
      "                                                                 \n",
      " conv1_bn (BatchNormalizatio  (None, 112, 112, 32)     128       \n",
      " n)                                                              \n",
      "                                                                 \n",
      " conv1_relu (ReLU)           (None, 112, 112, 32)      0         \n",
      "                                                                 \n",
      " conv_dw_1 (DepthwiseConv2D)  (None, 112, 112, 32)     288       \n",
      "                                                                 \n",
      " conv_dw_1_bn (BatchNormaliz  (None, 112, 112, 32)     128       \n",
      " ation)                                                          \n",
      "                                                                 \n",
      " conv_dw_1_relu (ReLU)       (None, 112, 112, 32)      0         \n",
      "                                                                 \n",
      " conv_pw_1 (Conv2D)          (None, 112, 112, 64)      2048      \n",
      "                                                                 \n",
      " conv_pw_1_bn (BatchNormaliz  (None, 112, 112, 64)     256       \n",
      " ation)                                                          \n",
      "                                                                 \n",
      " conv_pw_1_relu (ReLU)       (None, 112, 112, 64)      0         \n",
      "                                                                 \n",
      " conv_pad_2 (ZeroPadding2D)  (None, 113, 113, 64)      0         \n",
      "                                                                 \n",
      " conv_dw_2 (DepthwiseConv2D)  (None, 56, 56, 64)       576       \n",
      "                                                                 \n",
      " conv_dw_2_bn (BatchNormaliz  (None, 56, 56, 64)       256       \n",
      " ation)                                                          \n",
      "                                                                 \n",
      " conv_dw_2_relu (ReLU)       (None, 56, 56, 64)        0         \n",
      "                                                                 \n",
      " conv_pw_2 (Conv2D)          (None, 56, 56, 128)       8192      \n",
      "                                                                 \n",
      " conv_pw_2_bn (BatchNormaliz  (None, 56, 56, 128)      512       \n",
      " ation)                                                          \n",
      "                                                                 \n",
      " conv_pw_2_relu (ReLU)       (None, 56, 56, 128)       0         \n",
      "                                                                 \n",
      " conv_dw_3 (DepthwiseConv2D)  (None, 56, 56, 128)      1152      \n",
      "                                                                 \n",
      " conv_dw_3_bn (BatchNormaliz  (None, 56, 56, 128)      512       \n",
      " ation)                                                          \n",
      "                                                                 \n",
      " conv_dw_3_relu (ReLU)       (None, 56, 56, 128)       0         \n",
      "                                                                 \n",
      " conv_pw_3 (Conv2D)          (None, 56, 56, 128)       16384     \n",
      "                                                                 \n",
      " conv_pw_3_bn (BatchNormaliz  (None, 56, 56, 128)      512       \n",
      " ation)                                                          \n",
      "                                                                 \n",
      " conv_pw_3_relu (ReLU)       (None, 56, 56, 128)       0         \n",
      "                                                                 \n",
      " conv_pad_4 (ZeroPadding2D)  (None, 57, 57, 128)       0         \n",
      "                                                                 \n",
      " conv_dw_4 (DepthwiseConv2D)  (None, 28, 28, 128)      1152      \n",
      "                                                                 \n",
      " conv_dw_4_bn (BatchNormaliz  (None, 28, 28, 128)      512       \n",
      " ation)                                                          \n",
      "                                                                 \n",
      " conv_dw_4_relu (ReLU)       (None, 28, 28, 128)       0         \n",
      "                                                                 \n",
      " conv_pw_4 (Conv2D)          (None, 28, 28, 256)       32768     \n",
      "                                                                 \n",
      " conv_pw_4_bn (BatchNormaliz  (None, 28, 28, 256)      1024      \n",
      " ation)                                                          \n",
      "                                                                 \n",
      " conv_pw_4_relu (ReLU)       (None, 28, 28, 256)       0         \n",
      "                                                                 \n",
      " conv_dw_5 (DepthwiseConv2D)  (None, 28, 28, 256)      2304      \n",
      "                                                                 \n",
      " conv_dw_5_bn (BatchNormaliz  (None, 28, 28, 256)      1024      \n",
      " ation)                                                          \n",
      "                                                                 \n",
      " conv_dw_5_relu (ReLU)       (None, 28, 28, 256)       0         \n",
      "                                                                 \n",
      " conv_pw_5 (Conv2D)          (None, 28, 28, 256)       65536     \n",
      "                                                                 \n",
      " conv_pw_5_bn (BatchNormaliz  (None, 28, 28, 256)      1024      \n",
      " ation)                                                          \n",
      "                                                                 \n",
      " conv_pw_5_relu (ReLU)       (None, 28, 28, 256)       0         \n",
      "                                                                 \n",
      " conv_pad_6 (ZeroPadding2D)  (None, 29, 29, 256)       0         \n",
      "                                                                 \n",
      " conv_dw_6 (DepthwiseConv2D)  (None, 14, 14, 256)      2304      \n",
      "                                                                 \n",
      " conv_dw_6_bn (BatchNormaliz  (None, 14, 14, 256)      1024      \n",
      " ation)                                                          \n",
      "                                                                 \n",
      " conv_dw_6_relu (ReLU)       (None, 14, 14, 256)       0         \n",
      "                                                                 \n",
      " conv_pw_6 (Conv2D)          (None, 14, 14, 512)       131072    \n",
      "                                                                 \n",
      " conv_pw_6_bn (BatchNormaliz  (None, 14, 14, 512)      2048      \n",
      " ation)                                                          \n",
      "                                                                 \n",
      " conv_pw_6_relu (ReLU)       (None, 14, 14, 512)       0         \n",
      "                                                                 \n",
      " conv_dw_7 (DepthwiseConv2D)  (None, 14, 14, 512)      4608      \n",
      "                                                                 \n",
      " conv_dw_7_bn (BatchNormaliz  (None, 14, 14, 512)      2048      \n",
      " ation)                                                          \n",
      "                                                                 \n",
      " conv_dw_7_relu (ReLU)       (None, 14, 14, 512)       0         \n",
      "                                                                 \n",
      " conv_pw_7 (Conv2D)          (None, 14, 14, 512)       262144    \n",
      "                                                                 \n",
      " conv_pw_7_bn (BatchNormaliz  (None, 14, 14, 512)      2048      \n",
      " ation)                                                          \n",
      "                                                                 \n",
      " conv_pw_7_relu (ReLU)       (None, 14, 14, 512)       0         \n",
      "                                                                 \n",
      " conv_dw_8 (DepthwiseConv2D)  (None, 14, 14, 512)      4608      \n",
      "                                                                 \n",
      " conv_dw_8_bn (BatchNormaliz  (None, 14, 14, 512)      2048      \n",
      " ation)                                                          \n",
      "                                                                 \n",
      " conv_dw_8_relu (ReLU)       (None, 14, 14, 512)       0         \n",
      "                                                                 \n",
      " conv_pw_8 (Conv2D)          (None, 14, 14, 512)       262144    \n",
      "                                                                 \n",
      " conv_pw_8_bn (BatchNormaliz  (None, 14, 14, 512)      2048      \n",
      " ation)                                                          \n",
      "                                                                 \n",
      " conv_pw_8_relu (ReLU)       (None, 14, 14, 512)       0         \n",
      "                                                                 \n",
      " conv_dw_9 (DepthwiseConv2D)  (None, 14, 14, 512)      4608      \n",
      "                                                                 \n",
      " conv_dw_9_bn (BatchNormaliz  (None, 14, 14, 512)      2048      \n",
      " ation)                                                          \n",
      "                                                                 \n",
      " conv_dw_9_relu (ReLU)       (None, 14, 14, 512)       0         \n",
      "                                                                 \n",
      " conv_pw_9 (Conv2D)          (None, 14, 14, 512)       262144    \n",
      "                                                                 \n",
      " conv_pw_9_bn (BatchNormaliz  (None, 14, 14, 512)      2048      \n",
      " ation)                                                          \n",
      "                                                                 \n",
      " conv_pw_9_relu (ReLU)       (None, 14, 14, 512)       0         \n",
      "                                                                 \n",
      " conv_dw_10 (DepthwiseConv2D  (None, 14, 14, 512)      4608      \n",
      " )                                                               \n",
      "                                                                 \n",
      " conv_dw_10_bn (BatchNormali  (None, 14, 14, 512)      2048      \n",
      " zation)                                                         \n",
      "                                                                 \n",
      " conv_dw_10_relu (ReLU)      (None, 14, 14, 512)       0         \n",
      "                                                                 \n",
      " conv_pw_10 (Conv2D)         (None, 14, 14, 512)       262144    \n",
      "                                                                 \n",
      " conv_pw_10_bn (BatchNormali  (None, 14, 14, 512)      2048      \n",
      " zation)                                                         \n",
      "                                                                 \n",
      " conv_pw_10_relu (ReLU)      (None, 14, 14, 512)       0         \n",
      "                                                                 \n",
      " conv_dw_11 (DepthwiseConv2D  (None, 14, 14, 512)      4608      \n",
      " )                                                               \n",
      "                                                                 \n",
      " conv_dw_11_bn (BatchNormali  (None, 14, 14, 512)      2048      \n",
      " zation)                                                         \n",
      "                                                                 \n",
      " conv_dw_11_relu (ReLU)      (None, 14, 14, 512)       0         \n",
      "                                                                 \n",
      " conv_pw_11 (Conv2D)         (None, 14, 14, 512)       262144    \n",
      "                                                                 \n",
      " conv_pw_11_bn (BatchNormali  (None, 14, 14, 512)      2048      \n",
      " zation)                                                         \n",
      "                                                                 \n",
      " conv_pw_11_relu (ReLU)      (None, 14, 14, 512)       0         \n",
      "                                                                 \n",
      " conv_pad_12 (ZeroPadding2D)  (None, 15, 15, 512)      0         \n",
      "                                                                 \n",
      " conv_dw_12 (DepthwiseConv2D  (None, 7, 7, 512)        4608      \n",
      " )                                                               \n",
      "                                                                 \n",
      " conv_dw_12_bn (BatchNormali  (None, 7, 7, 512)        2048      \n",
      " zation)                                                         \n",
      "                                                                 \n",
      " conv_dw_12_relu (ReLU)      (None, 7, 7, 512)         0         \n",
      "                                                                 \n",
      " conv_pw_12 (Conv2D)         (None, 7, 7, 1024)        524288    \n",
      "                                                                 \n",
      " conv_pw_12_bn (BatchNormali  (None, 7, 7, 1024)       4096      \n",
      " zation)                                                         \n",
      "                                                                 \n",
      " conv_pw_12_relu (ReLU)      (None, 7, 7, 1024)        0         \n",
      "                                                                 \n",
      " conv_dw_13 (DepthwiseConv2D  (None, 7, 7, 1024)       9216      \n",
      " )                                                               \n",
      "                                                                 \n",
      " conv_dw_13_bn (BatchNormali  (None, 7, 7, 1024)       4096      \n",
      " zation)                                                         \n",
      "                                                                 \n",
      " conv_dw_13_relu (ReLU)      (None, 7, 7, 1024)        0         \n",
      "                                                                 \n",
      " conv_pw_13 (Conv2D)         (None, 7, 7, 1024)        1048576   \n",
      "                                                                 \n",
      " conv_pw_13_bn (BatchNormali  (None, 7, 7, 1024)       4096      \n",
      " zation)                                                         \n",
      "                                                                 \n",
      " conv_pw_13_relu (ReLU)      (None, 7, 7, 1024)        0         \n",
      "                                                                 \n",
      " global_average_pooling2d_1   (None, 1, 1, 1024)       0         \n",
      " (GlobalAveragePooling2D)                                        \n",
      "                                                                 \n",
      " reshape_1 (Reshape)         (None, 1024)              0         \n",
      "                                                                 \n",
      " dense_1 (Dense)             (None, 120)               123000    \n",
      "                                                                 \n",
      "=================================================================\n",
      "Total params: 3,351,864\n",
      "Trainable params: 1,985,656\n",
      "Non-trainable params: 1,366,208\n",
      "_________________________________________________________________\n"
     ]
    }
   ],
   "source": [
    "model.summary()"
   ]
  },
  {
   "cell_type": "code",
   "execution_count": 11,
   "id": "2c790bd4",
   "metadata": {},
   "outputs": [],
   "source": [
    "model.compile(optimizer=Adam(learning_rate=0.0001), loss = 'categorical_crossentropy', metrics =['accuracy'])"
   ]
  },
  {
   "cell_type": "markdown",
   "id": "751d7d1a",
   "metadata": {},
   "source": [
    "$\\textbf{Image Preperation}$"
   ]
  },
  {
   "cell_type": "code",
   "execution_count": 80,
   "id": "c1c3c318",
   "metadata": {},
   "outputs": [
    {
     "data": {
      "text/plain": [
       "'/Users/bivanshrestha/Desktop/Notebooks/Mobile Net Practice/Data'"
      ]
     },
     "execution_count": 80,
     "metadata": {},
     "output_type": "execute_result"
    }
   ],
   "source": [
    "os.getcwd()"
   ]
  },
  {
   "cell_type": "code",
   "execution_count": 70,
   "id": "2c70be7e",
   "metadata": {},
   "outputs": [],
   "source": [
    "count = 1\n",
    "dog_dict = {}\n",
    "for file in os.listdir('Images'):\n",
    "    if file != '.DS_Store':\n",
    "        dog_dict[count] = file\n",
    "        count +=1"
   ]
  },
  {
   "cell_type": "markdown",
   "id": "87c9d12e",
   "metadata": {},
   "source": [
    "1: n02097658-silky_terrier\n",
    "2: n02092002-Scottish_deerhound\n",
    "3: n02099849-Chesapeake_Bay_retriever\n",
    "4: n02091244-Ibizan_hound\n",
    "5: n02095314-wire-haired_fox_terrier\n",
    "6: n02091831-Saluki\n",
    "7: n02102318-cocker_spaniel\n",
    "8: n02104365-schipperke\n",
    "9: n02090622-borzoi\n",
    "10: n02113023-Pembroke\n",
    "11: n02105505-komondor\n",
    "12: n02093256-Staffordshire_bullterrier\n",
    "13: n02113799-standard_poodle\n",
    "14: n02109961-Eskimo_dog\n",
    "15: n02089973-English_foxhound\n",
    "16: n02099601-golden_retriever\n",
    "17: n02095889-Sealyham_terrier\n",
    "18: n02085782-Japanese_spaniel\n",
    "19: n02097047-miniature_schnauzer\n",
    "20: n02110063-malamute\n",
    "21: n02105162-malinois\n",
    "22: n02086079-Pekinese\n",
    "23: n02097130-giant_schnauzer\n",
    "24: n02113978-Mexican_hairless\n",
    "25: n02107142-Doberman\n",
    "26: n02097209-standard_schnauzer\n",
    "27: n02115913-dhole\n",
    "28: n02106662-German_shepherd\n",
    "29: n02106382-Bouvier_des_Flandres\n",
    "30: n02110185-Siberian_husky\n",
    "31: n02094258-Norwich_terrier\n",
    "32: n02093991-Irish_terrier\n",
    "33: n02094114-Norfolk_terrier\n",
    "34: n02109525-Saint_Bernard\n",
    "35: n02093754-Border_terrier\n",
    "36: n02105251-briard\n",
    "37: n02108551-Tibetan_mastiff\n",
    "38: n02108422-bull_mastiff\n",
    "39: n02085936-Maltese_dog\n",
    "40: n02093859-Kerry_blue_terrier\n",
    "41: n02104029-kuvasz\n",
    "42: n02107574-Greater_Swiss_Mountain_dog\n",
    "43: n02095570-Lakeland_terrier\n",
    "44: n02086646-Blenheim_spaniel\n",
    "45: n02088238-basset\n",
    "46: n02098286-West_Highland_white_terrier\n",
    "47: n02085620-Chihuahua\n",
    "48: n02106166-Border_collie\n",
    "49: n02090379-redbone\n",
    "50: n02090721-Irish_wolfhound\n",
    "51: n02088632-bluetick\n",
    "52: n02113712-miniature_poodle\n",
    "53: n02113186-Cardigan\n",
    "54: n02108000-EntleBucher\n",
    "55: n02091467-Norwegian_elkhound\n",
    "56: n02100236-German_short-haired_pointer\n",
    "57: n02107683-Bernese_mountain_dog\n",
    "58: n02086910-papillon\n",
    "59: n02097474-Tibetan_terrier\n",
    "60: n02101006-Gordon_setter\n",
    "61: n02093428-American_Staffordshire_terrier\n",
    "62: n02100583-vizsla\n",
    "63: n02105412-kelpie\n",
    "64: n02092339-Weimaraner\n",
    "65: n02107312-miniature_pinscher\n",
    "66: n02108089-boxer\n",
    "67: n02112137-chow\n",
    "68: n02105641-Old_English_sheepdog\n",
    "69: n02110958-pug\n",
    "70: n02087394-Rhodesian_ridgeback\n",
    "71: n02097298-Scotch_terrier\n",
    "72: n02086240-Shih-Tzu\n",
    "73: n02110627-affenpinscher\n",
    "74: n02091134-whippet\n",
    "75: n02102480-Sussex_spaniel\n",
    "76: n02091635-otterhound\n",
    "77: n02099267-flat-coated_retriever\n",
    "78: n02100735-English_setter\n",
    "79: n02091032-Italian_greyhound\n",
    "80: n02099712-Labrador_retriever\n",
    "81: n02106030-collie\n",
    "82: n02096177-cairn\n",
    "83: n02106550-Rottweiler\n",
    "84: n02096294-Australian_terrier\n",
    "85: n02087046-toy_terrier\n",
    "86: n02105855-Shetland_sheepdog\n",
    "87: n02116738-African_hunting_dog\n",
    "88: n02111277-Newfoundland\n",
    "89: n02089867-Walker_hound\n",
    "90: n02098413-Lhasa\n",
    "91: n02088364-beagle\n",
    "92: n02111889-Samoyed\n",
    "93: n02109047-Great_Dane\n",
    "94: n02096051-Airedale\n",
    "95: n02088466-bloodhound\n",
    "96: n02100877-Irish_setter\n",
    "97: n02112350-keeshond\n",
    "98: n02096437-Dandie_Dinmont\n",
    "99: n02110806-basenji\n",
    "100: n02093647-Bedlington_terrier\n",
    "101: n02107908-Appenzeller\n",
    "102: n02101556-clumber\n",
    "103: n02113624-toy_poodle\n",
    "104: n02111500-Great_Pyrenees\n",
    "105: n02102040-English_springer\n",
    "106: n02088094-Afghan_hound\n",
    "107: n02101388-Brittany_spaniel\n",
    "108: n02102177-Welsh_springer_spaniel\n",
    "109: n02096585-Boston_bull\n",
    "110: n02115641-dingo\n",
    "111: n02098105-soft-coated_wheaten_terrier\n",
    "112: n02099429-curly-coated_retriever\n",
    "113: n02108915-French_bulldog\n",
    "114: n02102973-Irish_water_spaniel\n",
    "115: n02112018-Pomeranian\n",
    "116: n02112706-Brabancon_griffon\n",
    "117: n02094433-Yorkshire_terrier\n",
    "118: n02105056-groenendael\n",
    "119: n02111129-Leonberg\n",
    "120: n02089078-black-and-tan_coonhound"
   ]
  },
  {
   "cell_type": "code",
   "execution_count": 81,
   "id": "f1b2fd95",
   "metadata": {
    "scrolled": false
   },
   "outputs": [],
   "source": [
    "os.chdir('/Users/bivanshrestha/Desktop/Notebooks/Dog Classification/Dog Breed Dataset')\n",
    "\n",
    "\n",
    "for i in range(1, 121):\n",
    "    os.mkdir(f'train/{i}')\n",
    "    os.mkdir(f'valid/{i}')\n",
    "    os.mkdir(f'test/{i}')\n",
    "        \n",
    "    train_samples = random.sample(os.listdir(f'Images/{dog_dict[i]}'), 110)                    \n",
    "    for t in train_samples:\n",
    "        shutil.move(f'Images/{dog_dict[i]}/{t}', f'train/{i}')\n",
    "    \n",
    "    valid_samples = random.sample(os.listdir(f'Images/{dog_dict[i]}'), 25)\n",
    "    for v in valid_samples:\n",
    "        shutil.move(f'Images/{dog_dict[i]}/{v}', f'valid/{i}')                \n",
    "                    \n",
    "    test_samples = random.sample(os.listdir(f'Images/{dog_dict[i]}'), 15)\n",
    "    for test in test_samples:\n",
    "        shutil.move(f'Images/{dog_dict[i]}/{test}', f'test/{i}')\n",
    "    "
   ]
  },
  {
   "cell_type": "code",
   "execution_count": 47,
   "id": "3bd16f2d",
   "metadata": {},
   "outputs": [
    {
     "data": {
      "text/plain": [
       "'/Users/bivanshrestha/Desktop/Notebooks/Dog Classification/Dog Breed Dataset'"
      ]
     },
     "execution_count": 47,
     "metadata": {},
     "output_type": "execute_result"
    }
   ],
   "source": [
    "os.getcwd()"
   ]
  },
  {
   "cell_type": "code",
   "execution_count": 82,
   "id": "8bca5e3e",
   "metadata": {},
   "outputs": [],
   "source": [
    "train_path = '/Users/bivanshrestha/Desktop/Notebooks/Dog Classification/Dog Breed Dataset/Train'\n",
    "valid_path = '/Users/bivanshrestha/Desktop/Notebooks/Dog Classification/Dog Breed Dataset/Valid'\n",
    "test_path = '/Users/bivanshrestha/Desktop/Notebooks/Dog Classification/Dog Breed Dataset/Test'"
   ]
  },
  {
   "cell_type": "code",
   "execution_count": 95,
   "id": "952ce564",
   "metadata": {},
   "outputs": [
    {
     "name": "stdout",
     "output_type": "stream",
     "text": [
      "Found 13200 images belonging to 120 classes.\n",
      "Found 3000 images belonging to 120 classes.\n",
      "Found 1800 images belonging to 120 classes.\n"
     ]
    }
   ],
   "source": [
    "train_batches = ImageDataGenerator(preprocessing_function = tf.keras.applications.mobilenet.preprocess_input).flow_from_directory(directory = train_path, target_size = (224, 224), batch_size = 10)\n",
    "\n",
    "valid_batches = ImageDataGenerator(preprocessing_function = tf.keras.applications.mobilenet.preprocess_input).flow_from_directory(directory = valid_path, target_size = (224, 224), batch_size = 10)\n",
    "\n",
    "test_batches = ImageDataGenerator(preprocessing_function = tf.keras.applications.mobilenet.preprocess_input).flow_from_directory(directory = test_path, target_size = (224, 224), batch_size = 10, shuffle = False)"
   ]
  },
  {
   "cell_type": "markdown",
   "id": "14633d1e",
   "metadata": {},
   "source": [
    "$\\textbf{Train the Model}$"
   ]
  },
  {
   "cell_type": "code",
   "execution_count": 84,
   "id": "c961c3bd",
   "metadata": {},
   "outputs": [],
   "source": [
    "model.compile(optimizer=Adam(learning_rate=0.0001), loss = 'categorical_crossentropy', metrics =['accuracy'])"
   ]
  },
  {
   "cell_type": "code",
   "execution_count": 85,
   "id": "6d13f701",
   "metadata": {},
   "outputs": [
    {
     "name": "stdout",
     "output_type": "stream",
     "text": [
      "Epoch 1/10\n"
     ]
    },
    {
     "name": "stderr",
     "output_type": "stream",
     "text": [
      "2023-06-21 15:21:00.915390: W tensorflow/core/platform/profile_utils/cpu_utils.cc:128] Failed to get CPU frequency: 0 Hz\n"
     ]
    },
    {
     "name": "stdout",
     "output_type": "stream",
     "text": [
      "1320/1320 - 294s - loss: 2.3516 - accuracy: 0.4405 - val_loss: 1.2044 - val_accuracy: 0.6667 - 294s/epoch - 223ms/step\n",
      "Epoch 2/10\n",
      "1320/1320 - 292s - loss: 1.0266 - accuracy: 0.7333 - val_loss: 0.9786 - val_accuracy: 0.7117 - 292s/epoch - 221ms/step\n",
      "Epoch 3/10\n",
      "1320/1320 - 285s - loss: 0.6831 - accuracy: 0.8339 - val_loss: 0.9270 - val_accuracy: 0.7213 - 285s/epoch - 216ms/step\n",
      "Epoch 4/10\n",
      "1320/1320 - 281s - loss: 0.4544 - accuracy: 0.9043 - val_loss: 0.8945 - val_accuracy: 0.7347 - 281s/epoch - 213ms/step\n",
      "Epoch 5/10\n",
      "1320/1320 - 280s - loss: 0.3073 - accuracy: 0.9433 - val_loss: 0.8970 - val_accuracy: 0.7357 - 280s/epoch - 212ms/step\n",
      "Epoch 6/10\n",
      "1320/1320 - 282s - loss: 0.2114 - accuracy: 0.9693 - val_loss: 0.8744 - val_accuracy: 0.7397 - 282s/epoch - 214ms/step\n",
      "Epoch 7/10\n",
      "1320/1320 - 341s - loss: 0.1512 - accuracy: 0.9813 - val_loss: 0.8635 - val_accuracy: 0.7397 - 341s/epoch - 258ms/step\n",
      "Epoch 8/10\n",
      "1320/1320 - 385s - loss: 0.1089 - accuracy: 0.9881 - val_loss: 0.9044 - val_accuracy: 0.7340 - 385s/epoch - 292ms/step\n",
      "Epoch 9/10\n",
      "1320/1320 - 429s - loss: 0.0845 - accuracy: 0.9905 - val_loss: 0.9366 - val_accuracy: 0.7310 - 429s/epoch - 325ms/step\n",
      "Epoch 10/10\n",
      "1320/1320 - 434s - loss: 0.0729 - accuracy: 0.9922 - val_loss: 1.0112 - val_accuracy: 0.7133 - 434s/epoch - 329ms/step\n"
     ]
    },
    {
     "data": {
      "text/plain": [
       "<keras.callbacks.History at 0x169780520>"
      ]
     },
     "execution_count": 85,
     "metadata": {},
     "output_type": "execute_result"
    }
   ],
   "source": [
    "model.fit(x=train_batches,validation_data=valid_batches, epochs=10, verbose=2)"
   ]
  },
  {
   "cell_type": "markdown",
   "id": "3b7a6d88",
   "metadata": {},
   "source": [
    "$\\textbf{Predicting Dog Breed}$"
   ]
  },
  {
   "cell_type": "code",
   "execution_count": 96,
   "id": "9ddc19c6",
   "metadata": {},
   "outputs": [],
   "source": [
    "test_labels = test_batches.classes"
   ]
  },
  {
   "cell_type": "code",
   "execution_count": 97,
   "id": "4100c4b5",
   "metadata": {},
   "outputs": [],
   "source": [
    "predictions = model.predict (x=test_batches, verbose = 0)"
   ]
  },
  {
   "cell_type": "code",
   "execution_count": 98,
   "id": "658cc62d",
   "metadata": {},
   "outputs": [],
   "source": [
    "cm = confusion_matrix(y_true=test_labels, y_pred=predictions.argmax(axis=1))"
   ]
  },
  {
   "cell_type": "code",
   "execution_count": 99,
   "id": "68791860",
   "metadata": {},
   "outputs": [],
   "source": [
    "def plot_confusion_matrix(cm, classes,\n",
    "                          normalize=False,\n",
    "                          title='Confusion matrix',\n",
    "                          cmap=plt.cm.Blues):\n",
    "    \"\"\"\n",
    "    This function prints and plots the confusion matrix.\n",
    "    Normalization can be applied by setting `normalize=True`.\n",
    "    \"\"\"\n",
    "    plt.imshow(cm, interpolation='nearest', cmap=cmap)\n",
    "    plt.title(title)\n",
    "    plt.colorbar()\n",
    "    tick_marks = np.arange(len(classes))\n",
    "    plt.xticks(tick_marks, classes, rotation=45)\n",
    "    plt.yticks(tick_marks, classes)\n",
    "\n",
    "    if normalize:\n",
    "        cm = cm.astype('float') / cm.sum(axis=1)[:, np.newaxis]\n",
    "        print(\"Normalized confusion matrix\")\n",
    "    else:\n",
    "        print('Confusion matrix, without normalization')\n",
    "\n",
    "    print(cm)\n",
    "\n",
    "    thresh = cm.max() / 2.\n",
    "    for i, j in itertools.product(range(cm.shape[0]), range(cm.shape[1])):\n",
    "        plt.text(j, i, cm[i, j],\n",
    "            horizontalalignment=\"center\",\n",
    "            color=\"white\" if cm[i, j] > thresh else \"black\")\n",
    "\n",
    "    plt.tight_layout()\n",
    "    plt.ylabel('True label')\n",
    "    plt.xlabel('Predicted label')"
   ]
  },
  {
   "cell_type": "code",
   "execution_count": 101,
   "id": "c4579902",
   "metadata": {
    "collapsed": true
   },
   "outputs": [
    {
     "data": {
      "text/plain": [
       "{'1': 0,\n",
       " '10': 1,\n",
       " '100': 2,\n",
       " '101': 3,\n",
       " '102': 4,\n",
       " '103': 5,\n",
       " '104': 6,\n",
       " '105': 7,\n",
       " '106': 8,\n",
       " '107': 9,\n",
       " '108': 10,\n",
       " '109': 11,\n",
       " '11': 12,\n",
       " '110': 13,\n",
       " '111': 14,\n",
       " '112': 15,\n",
       " '113': 16,\n",
       " '114': 17,\n",
       " '115': 18,\n",
       " '116': 19,\n",
       " '117': 20,\n",
       " '118': 21,\n",
       " '119': 22,\n",
       " '12': 23,\n",
       " '120': 24,\n",
       " '13': 25,\n",
       " '14': 26,\n",
       " '15': 27,\n",
       " '16': 28,\n",
       " '17': 29,\n",
       " '18': 30,\n",
       " '19': 31,\n",
       " '2': 32,\n",
       " '20': 33,\n",
       " '21': 34,\n",
       " '22': 35,\n",
       " '23': 36,\n",
       " '24': 37,\n",
       " '25': 38,\n",
       " '26': 39,\n",
       " '27': 40,\n",
       " '28': 41,\n",
       " '29': 42,\n",
       " '3': 43,\n",
       " '30': 44,\n",
       " '31': 45,\n",
       " '32': 46,\n",
       " '33': 47,\n",
       " '34': 48,\n",
       " '35': 49,\n",
       " '36': 50,\n",
       " '37': 51,\n",
       " '38': 52,\n",
       " '39': 53,\n",
       " '4': 54,\n",
       " '40': 55,\n",
       " '41': 56,\n",
       " '42': 57,\n",
       " '43': 58,\n",
       " '44': 59,\n",
       " '45': 60,\n",
       " '46': 61,\n",
       " '47': 62,\n",
       " '48': 63,\n",
       " '49': 64,\n",
       " '5': 65,\n",
       " '50': 66,\n",
       " '51': 67,\n",
       " '52': 68,\n",
       " '53': 69,\n",
       " '54': 70,\n",
       " '55': 71,\n",
       " '56': 72,\n",
       " '57': 73,\n",
       " '58': 74,\n",
       " '59': 75,\n",
       " '6': 76,\n",
       " '60': 77,\n",
       " '61': 78,\n",
       " '62': 79,\n",
       " '63': 80,\n",
       " '64': 81,\n",
       " '65': 82,\n",
       " '66': 83,\n",
       " '67': 84,\n",
       " '68': 85,\n",
       " '69': 86,\n",
       " '7': 87,\n",
       " '70': 88,\n",
       " '71': 89,\n",
       " '72': 90,\n",
       " '73': 91,\n",
       " '74': 92,\n",
       " '75': 93,\n",
       " '76': 94,\n",
       " '77': 95,\n",
       " '78': 96,\n",
       " '79': 97,\n",
       " '8': 98,\n",
       " '80': 99,\n",
       " '81': 100,\n",
       " '82': 101,\n",
       " '83': 102,\n",
       " '84': 103,\n",
       " '85': 104,\n",
       " '86': 105,\n",
       " '87': 106,\n",
       " '88': 107,\n",
       " '89': 108,\n",
       " '9': 109,\n",
       " '90': 110,\n",
       " '91': 111,\n",
       " '92': 112,\n",
       " '93': 113,\n",
       " '94': 114,\n",
       " '95': 115,\n",
       " '96': 116,\n",
       " '97': 117,\n",
       " '98': 118,\n",
       " '99': 119}"
      ]
     },
     "execution_count": 101,
     "metadata": {},
     "output_type": "execute_result"
    }
   ],
   "source": [
    "test_batches.class_indices"
   ]
  },
  {
   "cell_type": "code",
   "execution_count": 102,
   "id": "8014aa04",
   "metadata": {},
   "outputs": [],
   "source": [
    "cm_plot_labels = []\n",
    "for i in range(0, 120):\n",
    "    cm_plot_labels.append(i)"
   ]
  },
  {
   "cell_type": "code",
   "execution_count": 118,
   "id": "d60386e4",
   "metadata": {},
   "outputs": [],
   "source": [
    "np.set_printoptions(threshold=1000)"
   ]
  },
  {
   "cell_type": "code",
   "execution_count": 121,
   "id": "b7d7c1a0",
   "metadata": {},
   "outputs": [
    {
     "data": {
      "text/plain": [
       "array([[11,  0,  0, ...,  0,  0,  0],\n",
       "       [ 0, 10,  0, ...,  0,  0,  0],\n",
       "       [ 0,  0, 15, ...,  0,  0,  0],\n",
       "       ...,\n",
       "       [ 0,  0,  0, ..., 15,  0,  0],\n",
       "       [ 0,  0,  0, ...,  0, 13,  0],\n",
       "       [ 0,  0,  0, ...,  0,  0, 11]])"
      ]
     },
     "execution_count": 121,
     "metadata": {},
     "output_type": "execute_result"
    }
   ],
   "source": [
    "#So we have a lot of classes, so a confusion matrix isn't really the best way to represent the predicted data\n",
    "#Will have to find a better way to represent all of this data\n",
    "cm"
   ]
  },
  {
   "cell_type": "markdown",
   "id": "126b5691",
   "metadata": {},
   "source": [
    "$\\textbf{Data augmentation for more training images}$"
   ]
  },
  {
   "cell_type": "code",
   "execution_count": null,
   "id": "42d0bfde",
   "metadata": {},
   "outputs": [],
   "source": [
    "#Here we will flip all the images across the vertical axis to double our training datasize\n",
    "import Augmentor \n"
   ]
  }
 ],
 "metadata": {
  "kernelspec": {
   "display_name": "Python 3 (ipykernel)",
   "language": "python",
   "name": "python3"
  },
  "language_info": {
   "codemirror_mode": {
    "name": "ipython",
    "version": 3
   },
   "file_extension": ".py",
   "mimetype": "text/x-python",
   "name": "python",
   "nbconvert_exporter": "python",
   "pygments_lexer": "ipython3",
   "version": "3.10.9"
  }
 },
 "nbformat": 4,
 "nbformat_minor": 5
}
